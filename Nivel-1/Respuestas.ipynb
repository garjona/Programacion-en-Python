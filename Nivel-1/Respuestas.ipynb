{
 "cells": [
  {
   "cell_type": "markdown",
   "metadata": {},
   "source": [
    "# Nivel 1"
   ]
  },
  {
   "cell_type": "markdown",
   "metadata": {},
   "source": [
    "## 001."
   ]
  },
  {
   "cell_type": "code",
   "execution_count": 11,
   "metadata": {},
   "outputs": [
    {
     "name": "stdout",
     "output_type": "stream",
     "text": [
      "Ingrese número: 156\n",
      "3\n"
     ]
    }
   ],
   "source": [
    "entrada = int(input(\"Ingrese número: \"))\n",
    "contador,cantidadMaxima = (0,0)\n",
    "for i in list(str(bin(entrada))+'0')[2:]:\n",
    "    if i == '1':\n",
    "        contador+=1\n",
    "    else:\n",
    "        if cantidadMaxima<contador:\n",
    "            cantidadMaxima = contador\n",
    "            contador = 0\n",
    "print (cantidadMaxima)"
   ]
  }
 ],
 "metadata": {
  "kernelspec": {
   "display_name": "Python 3",
   "language": "python",
   "name": "python3"
  },
  "language_info": {
   "codemirror_mode": {
    "name": "ipython",
    "version": 3
   },
   "file_extension": ".py",
   "mimetype": "text/x-python",
   "name": "python",
   "nbconvert_exporter": "python",
   "pygments_lexer": "ipython3",
   "version": "3.7.3"
  }
 },
 "nbformat": 4,
 "nbformat_minor": 2
}
